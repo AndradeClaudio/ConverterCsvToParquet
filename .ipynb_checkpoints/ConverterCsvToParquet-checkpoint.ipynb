{
 "cells": [
  {
   "cell_type": "markdown",
   "metadata": {
    "ExecuteTime": {
     "end_time": "2021-06-15T01:52:30.750539Z",
     "start_time": "2021-06-15T01:52:30.740587Z"
    }
   },
   "source": [
    "## Buscando dados\n",
    "Função para buscar os dados no FTP do Ministério do Trabalho e converter para **parquet**"
   ]
  },
  {
   "cell_type": "code",
   "execution_count": null,
   "metadata": {
    "ExecuteTime": {
     "end_time": "2021-06-17T00:36:35.274720Z",
     "start_time": "2021-06-17T00:30:33.137Z"
    }
   },
   "outputs": [],
   "source": [
    "import py7zr\n",
    "import pyarrow.parquet as pq\n",
    "import pyarrow.csv as pc\n",
    "import os\n",
    "import glob\n",
    "from datetime import datetime\n",
    "from ftplib import FTP\n",
    "\n",
    "ftp = FTP('ftp.mtps.gov.br')\n",
    "ftp.login()\n",
    "ftp.cwd('pdet/microdados/CAGED/')\n",
    "dir_list = []\n",
    "dir_list = ftp.nlst()[:]\n",
    "start_Geral = datetime.now()\n",
    "for dir in dir_list:\n",
    "    names_files = glob.glob(\"*.parquet\")[:]\n",
    "    try:\n",
    "        ftp.cwd(dir)\n",
    "    except:\n",
    "        continue\n",
    "    file_list=[]\n",
    "    file_list = ftp.nlst()[:]\n",
    "    for file in file_list:\n",
    "        if any(os.path.splitext(file)[0]+\".parquet\" in n for n in names_files):\n",
    "            continue\n",
    "        if(os.path.splitext(file)[1]=='.7z'):\n",
    "            try:\n",
    "                start = datetime.now()  \n",
    "                name_file=file[:-3]\n",
    "                with open(file, 'wb') as fp:\n",
    "                    ftp.retrbinary('RETR '+file, fp.write)\n",
    "                with py7zr.SevenZipFile(file, mode='r') as z:\n",
    "                    z.extractall()\n",
    "                with py7zr.SevenZipFile(file, 'r') as zip:\n",
    "                     allfiles = zip.getnames()\n",
    "                share_file = allfiles[0]\n",
    "                parquet_file = \".//parquet//\"+name_file+'.parquet'\n",
    "                arrow_table = pc.read_csv(share_file, parse_options=pc.ParseOptions(delimiter=\";\"),read_options=pc.ReadOptions(encoding='cp1252'))\n",
    "                pq.write_table(arrow_table, parquet_file)\n",
    "                os.remove(name_file+'.txt')\n",
    "                os.remove(name_file+'.7z')\n",
    "                end = datetime.now()\n",
    "                x = end - start\n",
    "                print('O arquivo: ',name_file)\n",
    "                print(f'Write process took {x} seconds.')\n",
    "            except:\n",
    "                continue\n",
    "    ftp.cwd('..')\n",
    "end = datetime.now()\n",
    "x = end - start_Geral\n",
    "print(f'Tempo Total {x} seconds.')"
   ]
  },
  {
   "cell_type": "markdown",
   "metadata": {
    "ExecuteTime": {
     "end_time": "2021-06-17T00:21:10.904806Z",
     "start_time": "2021-06-17T00:21:10.899745Z"
    }
   },
   "source": [
    "## Types para DataFrame para análise\n",
    "Carregandos os tipos os types das colunas de cada arquivo pra análise entre o arquivos"
   ]
  },
  {
   "cell_type": "code",
   "execution_count": 3,
   "metadata": {
    "ExecuteTime": {
     "end_time": "2021-06-17T00:23:57.110560Z",
     "start_time": "2021-06-17T00:23:55.619006Z"
    },
    "scrolled": true
   },
   "outputs": [
    {
     "ename": "NameError",
     "evalue": "name 'dffinal' is not defined",
     "output_type": "error",
     "traceback": [
      "\u001b[1;31m---------------------------------------------------------------------------\u001b[0m",
      "\u001b[1;31mNameError\u001b[0m                                 Traceback (most recent call last)",
      "\u001b[1;32m<ipython-input-3-48285025d315>\u001b[0m in \u001b[0;36m<module>\u001b[1;34m\u001b[0m\n\u001b[0;32m     30\u001b[0m     \u001b[1;31m#parquet_file = name_file[-4:]+name_file[-6:-4]+'.parquet'\u001b[0m\u001b[1;33m\u001b[0m\u001b[1;33m\u001b[0m\u001b[1;33m\u001b[0m\u001b[0m\n\u001b[0;32m     31\u001b[0m     \u001b[1;31m#os.rename(r'C:\\Users\\Ron\\Desktop\\Test\\Products.txt',r'C:\\Users\\Ron\\Desktop\\Test\\Shipped Products.txt')\u001b[0m\u001b[1;33m\u001b[0m\u001b[1;33m\u001b[0m\u001b[1;33m\u001b[0m\u001b[0m\n\u001b[1;32m---> 32\u001b[1;33m \u001b[0mdffinal\u001b[0m\u001b[1;33m.\u001b[0m\u001b[0mto_csv\u001b[0m\u001b[1;33m(\u001b[0m\u001b[1;34m'dtypes.csv'\u001b[0m\u001b[1;33m)\u001b[0m\u001b[1;33m\u001b[0m\u001b[1;33m\u001b[0m\u001b[0m\n\u001b[0m",
      "\u001b[1;31mNameError\u001b[0m: name 'dffinal' is not defined"
     ]
    }
   ],
   "source": [
    "## Gerar arquivo com os datatypes da colunas. \n",
    "import pandas as pd\n",
    "import glob\n",
    "import os\n",
    "import pyarrow as pa\n",
    "lprimeiro = True\n",
    "names_files = glob.glob(\".\\parquet\\*.parquet\")[:]\n",
    "for file in names_files:\n",
    "    df = pd.read_parquet(file)\n",
    "    df2 = df.dtypes.to_frame('dtypes').reset_index()\n",
    "    print(type(df2['dtypes']))\n",
    "    df2['dtypes'] = df2['dtypes'].apply(str)\n",
    "    print(df2.head())\n",
    "    df2 = df2.transpose()\n",
    "    df2 = df2.reindex(sorted(df2.columns), axis=1)\n",
    "    df2 = df2.rename(index={0: os.path.splitext(file)[0]})\n",
    "    print(os.path.splitext(file)[0])\n",
    "    if(lprimeiro):\n",
    "        #dffinal=df2\n",
    "        table=pa.Table.from_pandas(df)\n",
    "        lprimeiro=False\n",
    "        del df\n",
    "        del df2\n",
    "    else:\n",
    "        new_table=pa.Table.from_pandas(df)\n",
    "        updated_table = pa.concat_tables([table, new_table], promote=True)\n",
    "        #dffinal= dffinal.append(df2)\n",
    "        #del df\n",
    "        del df2\n",
    "    #parquet_file = name_file[-4:]+name_file[-6:-4]+'.parquet'\n",
    "    #os.rename(r'C:\\Users\\Ron\\Desktop\\Test\\Products.txt',r'C:\\Users\\Ron\\Desktop\\Test\\Shipped Products.txt')\n",
    "dffinal.to_csv('dtypes.csv')\n"
   ]
  },
  {
   "cell_type": "code",
   "execution_count": null,
   "metadata": {},
   "outputs": [],
   "source": []
  }
 ],
 "metadata": {
  "kernelspec": {
   "display_name": "Python 3",
   "language": "python",
   "name": "python3"
  },
  "language_info": {
   "codemirror_mode": {
    "name": "ipython",
    "version": 3
   },
   "file_extension": ".py",
   "mimetype": "text/x-python",
   "name": "python",
   "nbconvert_exporter": "python",
   "pygments_lexer": "ipython3",
   "version": "3.8.8"
  }
 },
 "nbformat": 4,
 "nbformat_minor": 4
}
